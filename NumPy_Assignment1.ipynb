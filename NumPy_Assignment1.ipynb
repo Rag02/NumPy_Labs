{
 "cells": [
  {
   "cell_type": "code",
   "execution_count": 1,
   "id": "212fd1ba",
   "metadata": {},
   "outputs": [],
   "source": [
    "import numpy as np"
   ]
  },
  {
   "cell_type": "markdown",
   "id": "10803eb0",
   "metadata": {},
   "source": [
    "## Q#1: Create x array with elements equal to 1."
   ]
  },
  {
   "cell_type": "code",
   "execution_count": 10,
   "id": "3307454f",
   "metadata": {},
   "outputs": [
    {
     "name": "stdout",
     "output_type": "stream",
     "text": [
      "[1 1 1]\n",
      "[1. 1. 1.]\n"
     ]
    }
   ],
   "source": [
    "# Array with 3 elements, all equal to 1\n",
    "x1 = np.array([1,1,1])\n",
    "print(x1)\n",
    "\n",
    "# anther way\n",
    "x2 =np.ones(3)\n",
    "print(x2)\n"
   ]
  },
  {
   "cell_type": "markdown",
   "id": "7795306d",
   "metadata": {},
   "source": [
    "## Q#2: Create y array with elements equal to 0."
   ]
  },
  {
   "cell_type": "code",
   "execution_count": 15,
   "id": "9550b063",
   "metadata": {},
   "outputs": [
    {
     "name": "stdout",
     "output_type": "stream",
     "text": [
      "[0. 0. 0.]\n",
      "[0 0 0]\n"
     ]
    }
   ],
   "source": [
    "# Array with  elements, all equal to 0\n",
    "y1 = np.zeros(3) \n",
    "print(y1)\n",
    "\n",
    "#anther way\n",
    "y2 = np.array([0,0,0])\n",
    "print(y2)"
   ]
  },
  {
   "cell_type": "markdown",
   "id": "cde6a939",
   "metadata": {},
   "source": [
    "## Q#3: Add x and y arrays."
   ]
  },
  {
   "cell_type": "code",
   "execution_count": 16,
   "id": "71070d1d",
   "metadata": {},
   "outputs": [
    {
     "name": "stdout",
     "output_type": "stream",
     "text": [
      "[1. 1. 1.]\n"
     ]
    }
   ],
   "source": [
    "Add_Array = x1 + y1  \n",
    "print(Add_Array)"
   ]
  },
  {
   "cell_type": "markdown",
   "id": "ed854f4c",
   "metadata": {},
   "source": [
    "## Q#4: Print x array characteristics (e.g: dimension, shape, size, type)."
   ]
  },
  {
   "cell_type": "code",
   "execution_count": 17,
   "id": "32627c83",
   "metadata": {},
   "outputs": [
    {
     "name": "stdout",
     "output_type": "stream",
     "text": [
      "Dimension: 1\n",
      "Shape: (3,)\n",
      "Size: 3\n",
      "Type: int32\n"
     ]
    }
   ],
   "source": [
    "print(\"Dimension:\", x1.ndim)\n",
    "print(\"Shape:\", x1.shape)\n",
    "print(\"Size:\", x1.size)\n",
    "print(\"Type:\", x1.dtype)"
   ]
  },
  {
   "cell_type": "markdown",
   "id": "dbd46a73",
   "metadata": {},
   "source": [
    "## Q#5: Create a 2D array \"called w\" as the following:\n",
    "\n",
    "|       |          |\n",
    "| ----- | -------- |\n",
    "| 11    | 12       |\n",
    "| 13    | 14       |\n",
    "| 15    | 16       |\n"
   ]
  },
  {
   "cell_type": "code",
   "execution_count": 18,
   "id": "b9c7bbb0",
   "metadata": {},
   "outputs": [
    {
     "name": "stdout",
     "output_type": "stream",
     "text": [
      "[[11 12]\n",
      " [13 14]\n",
      " [15 16]]\n"
     ]
    }
   ],
   "source": [
    "w = np.array([[11, 12 ],\n",
    "              [13, 14 ], \n",
    "              [15, 16]])\n",
    "\n",
    "print(w)"
   ]
  },
  {
   "cell_type": "markdown",
   "id": "0e62bd09",
   "metadata": {},
   "source": [
    "## Q#6: Create z array contains the numbers from 1 to 3."
   ]
  },
  {
   "cell_type": "code",
   "execution_count": 19,
   "id": "cee8aba0",
   "metadata": {},
   "outputs": [
    {
     "name": "stdout",
     "output_type": "stream",
     "text": [
      "[1 2 3]\n"
     ]
    }
   ],
   "source": [
    "z = np.arange(1, 4)\n",
    "\n",
    "print(z)"
   ]
  },
  {
   "cell_type": "markdown",
   "id": "32b00711",
   "metadata": {},
   "source": [
    "## Q#7: Combine the arrays z and w in horizontal way then save it in a new variable \"newArray\"."
   ]
  },
  {
   "cell_type": "code",
   "execution_count": 24,
   "id": "d218f892",
   "metadata": {},
   "outputs": [
    {
     "name": "stdout",
     "output_type": "stream",
     "text": [
      "New_Array1\n",
      "[[ 1 11 12]\n",
      " [ 2 13 14]\n",
      " [ 3 15 16]]\n",
      "New_Array2\n",
      "[[ 1 11 12]\n",
      " [ 2 13 14]\n",
      " [ 3 15 16]]\n"
     ]
    }
   ],
   "source": [
    "\n",
    "New_Array1 = np.hstack((z.reshape(-1, 1), w))\n",
    "\n",
    "#anther way\n",
    "z_reshaped = z[:, np.newaxis]\n",
    "New_Array2  = np.concatenate((z_reshaped, w), axis=1)\n",
    "\n",
    "print(\"New_Array1\")\n",
    "print(New_Array1)\n",
    "print(\"New_Array2\")\n",
    "print(New_Array2)"
   ]
  },
  {
   "cell_type": "markdown",
   "id": "7e009910",
   "metadata": {},
   "source": [
    "## Q#8: Print all elements of \"newArray\" using the loop."
   ]
  },
  {
   "cell_type": "code",
   "execution_count": 25,
   "id": "abbed923",
   "metadata": {},
   "outputs": [
    {
     "name": "stdout",
     "output_type": "stream",
     "text": [
      "1 11 12 \n",
      "2 13 14 \n",
      "3 15 16 \n"
     ]
    }
   ],
   "source": [
    "for row in New_Array1:\n",
    "    for i in row:\n",
    "        print(i, end=\" \")\n",
    "    print()  # Print a new line after each row\n"
   ]
  },
  {
   "cell_type": "markdown",
   "id": "011c6d2d",
   "metadata": {},
   "source": [
    "## Q#9: Reverse the columns and rows of \"newArray\"."
   ]
  },
  {
   "cell_type": "code",
   "execution_count": 39,
   "id": "12e3f0db",
   "metadata": {},
   "outputs": [
    {
     "name": "stdout",
     "output_type": "stream",
     "text": [
      "[[16 15  3]\n",
      " [14 13  2]\n",
      " [12 11  1]]\n"
     ]
    }
   ],
   "source": [
    "New_Array1 = New_Array1[::-1, ::-1]\n",
    "\n",
    "print(New_Array1)\n"
   ]
  },
  {
   "cell_type": "markdown",
   "id": "f40b57c3",
   "metadata": {},
   "source": [
    "## Q#10: Decrement all elements of \"newArray\" with 1."
   ]
  },
  {
   "cell_type": "code",
   "execution_count": 40,
   "id": "aea004df",
   "metadata": {},
   "outputs": [
    {
     "name": "stdout",
     "output_type": "stream",
     "text": [
      "[[15 14  2]\n",
      " [13 12  1]\n",
      " [11 10  0]]\n"
     ]
    }
   ],
   "source": [
    "New_Array1 = New_Array1 - 1\n",
    "\n",
    "print(New_Array1)\n"
   ]
  },
  {
   "cell_type": "markdown",
   "id": "8901e8be",
   "metadata": {},
   "source": [
    "## Q#11: Find smallest and biggest values in \"newArray\"."
   ]
  },
  {
   "cell_type": "code",
   "execution_count": 41,
   "id": "4ea08613",
   "metadata": {},
   "outputs": [
    {
     "name": "stdout",
     "output_type": "stream",
     "text": [
      "Smallest value: 0\n",
      "Largest value: 15\n"
     ]
    }
   ],
   "source": [
    "smallest_value = np.amin(New_Array1)\n",
    "largest_value = np.amax(New_Array1)\n",
    "\n",
    "print(\"Smallest value:\", smallest_value)\n",
    "print(\"Largest value:\", largest_value)\n"
   ]
  },
  {
   "cell_type": "markdown",
   "id": "c5d5d4ca",
   "metadata": {},
   "source": [
    "## Q#12: Print the first row of \"newArray\" using indexing."
   ]
  },
  {
   "cell_type": "code",
   "execution_count": 42,
   "id": "73e3b5a5",
   "metadata": {},
   "outputs": [
    {
     "name": "stdout",
     "output_type": "stream",
     "text": [
      "[15 14  2]\n"
     ]
    }
   ],
   "source": [
    "firstRrow = New_Array1[0]\n",
    "\n",
    "print(firstRrow)\n"
   ]
  },
  {
   "cell_type": "markdown",
   "id": "78f4d6c1",
   "metadata": {},
   "source": [
    "## Q#13: Print the number equals 12 of \"newArray\" using indexing."
   ]
  },
  {
   "cell_type": "code",
   "execution_count": 43,
   "id": "7ad660b7",
   "metadata": {},
   "outputs": [
    {
     "name": "stdout",
     "output_type": "stream",
     "text": [
      "Indices of 12 : (array([1], dtype=int64), array([1], dtype=int64))\n",
      "Value 12 found at index (1, 1)\n"
     ]
    }
   ],
   "source": [
    "target_value = 12\n",
    "\n",
    "indices = np.where(New_Array1 == target_value)\n",
    "\n",
    "print(\"Indices of\", target_value, \":\", indices)\n",
    "\n",
    "for idx in zip(indices[0], indices[1]):\n",
    "    print(\"Value\", target_value, \"found at index\", idx)\n",
    "\n"
   ]
  },
  {
   "cell_type": "markdown",
   "id": "932b5c3d",
   "metadata": {},
   "source": [
    "## Q#14: Print the numbers equal 0 and 13 of \"newArray\" using indexing."
   ]
  },
  {
   "cell_type": "code",
   "execution_count": 45,
   "id": "31fb5fd0",
   "metadata": {},
   "outputs": [
    {
     "name": "stdout",
     "output_type": "stream",
     "text": [
      "Indices of 0 : (array([2], dtype=int64), array([2], dtype=int64))\n",
      "Value 0 found at index (2, 2)\n",
      "Indices of 13 : (array([1], dtype=int64), array([0], dtype=int64))\n",
      "Value 13 found at index (1, 0)\n"
     ]
    }
   ],
   "source": [
    "targets = [0, 13]\n",
    "\n",
    "for target_value in targets:\n",
    "\n",
    "    indices = np.where(New_Array1 == target_value)\n",
    "\n",
    "    print(\"Indices of\", target_value, \":\", indices)\n",
    "\n",
    "    \n",
    "    for idx in zip(indices[0], indices[1]):\n",
    "        print(\"Value\", target_value, \"found at index\", idx)\n",
    "\n"
   ]
  },
  {
   "cell_type": "markdown",
   "id": "27e0f68e",
   "metadata": {},
   "source": [
    "## Q#15: Change the shape of \"newArray\" to (9,1)."
   ]
  },
  {
   "cell_type": "code",
   "execution_count": 46,
   "id": "35f224ad",
   "metadata": {},
   "outputs": [
    {
     "name": "stdout",
     "output_type": "stream",
     "text": [
      "[[15]\n",
      " [14]\n",
      " [ 2]\n",
      " [13]\n",
      " [12]\n",
      " [ 1]\n",
      " [11]\n",
      " [10]\n",
      " [ 0]]\n"
     ]
    }
   ],
   "source": [
    "New_Array1 = New_Array1.reshape(9, 1)\n",
    "\n",
    "print(New_Array1)\n"
   ]
  },
  {
   "cell_type": "markdown",
   "id": "e6d104c5",
   "metadata": {},
   "source": [
    "## Q#16: Change the shape of \"newArray\" to (3,2)."
   ]
  },
  {
   "cell_type": "code",
   "execution_count": 50,
   "id": "724d51d5",
   "metadata": {},
   "outputs": [
    {
     "name": "stdout",
     "output_type": "stream",
     "text": [
      "[[15 14  2]\n",
      " [13 12  1]\n",
      " [11 10  0]]\n"
     ]
    }
   ],
   "source": [
    "New_Array1 = New_Array1.reshape(3, 3)\n",
    "\n",
    "print(New_Array1)\n"
   ]
  },
  {
   "cell_type": "markdown",
   "id": "09567fdc",
   "metadata": {},
   "source": [
    "# Well Done 🎉"
   ]
  }
 ],
 "metadata": {
  "kernelspec": {
   "display_name": "Python 3 (ipykernel)",
   "language": "python",
   "name": "python3"
  },
  "language_info": {
   "codemirror_mode": {
    "name": "ipython",
    "version": 3
   },
   "file_extension": ".py",
   "mimetype": "text/x-python",
   "name": "python",
   "nbconvert_exporter": "python",
   "pygments_lexer": "ipython3",
   "version": "3.11.9"
  }
 },
 "nbformat": 4,
 "nbformat_minor": 5
}
